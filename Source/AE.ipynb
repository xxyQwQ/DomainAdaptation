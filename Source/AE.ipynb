{
 "cells": [
  {
   "cell_type": "code",
   "execution_count": 12,
   "metadata": {
    "collapsed": true,
    "pycharm": {
     "name": "#%%\n"
    }
   },
   "outputs": [
    {
     "name": "stdout",
     "output_type": "stream",
     "text": [
      "Device: cuda:0\n"
     ]
    }
   ],
   "source": [
    "import torch\n",
    "from torch import nn\n",
    "from torch.utils.data import DataLoader\n",
    "from torchvision import datasets, transforms\n",
    "import matplotlib.pyplot as plt\n",
    "import numpy as np\n",
    "from sklearn import metrics\n",
    "from sklearn.ensemble import RandomForestClassifier\n",
    "\n",
    "device = torch.device(\"cuda:0\" if torch.cuda.is_available() else \"cpu\")\n",
    "print(\"Device: {}\".format(device))"
   ]
  },
  {
   "cell_type": "code",
   "execution_count": 13,
   "outputs": [],
   "source": [
    "class MNISTDataset(datasets.VisionDataset):\n",
    "    def __init__(self, root: str) -> None:\n",
    "        super(MNISTDataset, self).__init__(root)\n",
    "        self.data_label = torch.load(root)\n",
    "        self.transform = transforms.Compose([\n",
    "            transforms.ToTensor()\n",
    "        ])\n",
    "        self.images = []\n",
    "        self.targets = []\n",
    "        for image, target in self.data_label:\n",
    "            self.images.append(np.array(image))\n",
    "            self.targets.append(target)\n",
    "        self.images = torch.tensor(np.array(self.images))\n",
    "        self.targets = torch.tensor(np.array(self.targets))\n",
    "\n",
    "    def __len__(self) -> int:\n",
    "        return 20000\n",
    "\n",
    "    def __getitem__(self, index):\n",
    "        image, target = self.data_label[index]\n",
    "        return self.transform(image), target\n",
    "\n",
    "\n",
    "train1_dataset = MNISTDataset('./ColoredMNIST/train1.pt')\n",
    "train1_dataloader = DataLoader(dataset=train1_dataset, batch_size=2000, shuffle=True)\n",
    "train2_dataset = MNISTDataset('./ColoredMNIST/train2.pt')\n",
    "train2_dataloader = DataLoader(dataset=train2_dataset, batch_size=2000, shuffle=True)\n",
    "test_dataset = MNISTDataset('./ColoredMNIST/test.pt')\n",
    "test_dataloader = DataLoader(dataset=test_dataset, batch_size=2000, shuffle=True)"
   ],
   "metadata": {
    "collapsed": false,
    "pycharm": {
     "name": "#%%\n"
    }
   }
  },
  {
   "cell_type": "code",
   "execution_count": 14,
   "outputs": [],
   "source": [
    "class AutoEncoder(torch.nn.Module):\n",
    "    def __init__(self):\n",
    "        super(AutoEncoder, self).__init__()\n",
    "        self.encoder = torch.nn.Sequential(\n",
    "            nn.Linear(3 * 28 * 28, 128),\n",
    "            nn.ReLU(True),\n",
    "            nn.Linear(128, 64),\n",
    "            nn.ReLU(True),\n",
    "            nn.Linear(64, 36),\n",
    "            nn.ReLU(True),\n",
    "            nn.Linear(36, 18),\n",
    "            nn.ReLU(True),\n",
    "            nn.Linear(18, 9),\n",
    "        )\n",
    "        self.decoder = torch.nn.Sequential(\n",
    "            nn.Linear(9, 18),\n",
    "            nn.ReLU(True),\n",
    "            nn.Linear(18, 36),\n",
    "            nn.ReLU(True),\n",
    "            nn.Linear(36, 64),\n",
    "            nn.ReLU(True),\n",
    "            nn.Linear(64, 128),\n",
    "            nn.ReLU(True),\n",
    "            nn.Linear(128, 3 * 28 * 28),\n",
    "            nn.Sigmoid()\n",
    "        )\n",
    "\n",
    "    def forward(self, x):\n",
    "        encoded = self.encoder(x)\n",
    "        decoded = self.decoder(encoded)\n",
    "        return decoded"
   ],
   "metadata": {
    "collapsed": false,
    "pycharm": {
     "name": "#%%\n"
    }
   }
  },
  {
   "cell_type": "code",
   "execution_count": 20,
   "outputs": [
    {
     "name": "stdout",
     "output_type": "stream",
     "text": [
      "Epoch: 0\n",
      "Epoch: 1\n",
      "Epoch: 2\n",
      "Epoch: 3\n",
      "Epoch: 4\n",
      "Epoch: 5\n",
      "Epoch: 6\n",
      "Epoch: 7\n",
      "Epoch: 8\n",
      "Epoch: 9\n"
     ]
    },
    {
     "data": {
      "text/plain": "<Figure size 504x504 with 1 Axes>",
      "image/png": "[encoded data removed]"
     },
     "metadata": {
      "needs_background": "light"
     },
     "output_type": "display_data"
    }
   ],
   "source": [
    "model = AutoEncoder().to(device)\n",
    "loss_function = torch.nn.MSELoss()\n",
    "optimizer = torch.optim.Adam(model.parameters(), lr=0.01)\n",
    "\n",
    "total_epoch = 10\n",
    "record_loss = []\n",
    "\n",
    "for epoch in range(total_epoch):\n",
    "    print(\"Epoch: {}\".format(epoch))\n",
    "    for group in [train1_dataloader, train2_dataloader]:\n",
    "        for images, _ in group:\n",
    "            images = images.to(device).reshape(-1, 3 * 28 * 28)\n",
    "            outputs = model(images)\n",
    "            loss = loss_function(outputs, images)\n",
    "            optimizer.zero_grad()\n",
    "            loss.backward()\n",
    "            optimizer.step()\n",
    "            record_loss.append(loss.item())\n",
    "    for group in [test_dataloader]:\n",
    "        for images, _ in group:\n",
    "            images = images.to(device).reshape(-1, 3 * 28 * 28)\n",
    "            outputs = model(images)\n",
    "            loss = 8.0 * loss_function(outputs, images)\n",
    "            optimizer.zero_grad()\n",
    "            loss.backward()\n",
    "            optimizer.step()\n",
    "            record_loss.append(loss.item())\n",
    "\n",
    "plt.figure(figsize=(7, 7))\n",
    "plt.plot(record_loss[:])\n",
    "plt.xlim((0, total_epoch))\n",
    "plt.xlabel('Iteration')\n",
    "plt.ylabel('Loss')\n",
    "plt.show()"
   ],
   "metadata": {
    "collapsed": false,
    "pycharm": {
     "name": "#%%\n"
    }
   }
  },
  {
   "cell_type": "code",
   "execution_count": 21,
   "outputs": [
    {
     "name": "stdout",
     "output_type": "stream",
     "text": [
      "Accuracy: 0.5033\n"
     ]
    }
   ],
   "source": [
    "model.cpu()\n",
    "\n",
    "inputs = train1_dataset.images.reshape((20000, -1)).to(torch.float32)\n",
    "train1_x = model.encoder(inputs).detach().numpy()\n",
    "train1_y = train1_dataset.targets.detach().numpy()\n",
    "\n",
    "inputs = train2_dataset.images.reshape((20000, -1)).to(torch.float32)\n",
    "train2_x = model.encoder(inputs).detach().numpy()\n",
    "train2_y = train2_dataset.targets.detach().numpy()\n",
    "\n",
    "train_x = np.concatenate((train1_x, train2_x), axis=0)\n",
    "train_y = np.concatenate((train1_y, train2_y), axis=0)\n",
    "\n",
    "inputs = test_dataset.images.reshape((20000, -1)).to(torch.float32)\n",
    "test_x = model.encoder(inputs).detach().numpy()\n",
    "test_y = test_dataset.targets.detach().numpy()\n",
    "\n",
    "classifier = RandomForestClassifier(n_estimators=20)\n",
    "classifier.fit(train_x, train_y)\n",
    "predict_y = classifier.predict(test_x)\n",
    "print(\"Accuracy: {}\".format(metrics.accuracy_score(predict_y, test_y)))"
   ],
   "metadata": {
    "collapsed": false,
    "pycharm": {
     "name": "#%%\n"
    }
   }
  }
 ],
 "metadata": {
  "kernelspec": {
   "display_name": "Python 3",
   "language": "python",
   "name": "python3"
  },
  "language_info": {
   "codemirror_mode": {
    "name": "ipython",
    "version": 2
   },
   "file_extension": ".py",
   "mimetype": "text/x-python",
   "name": "python",
   "nbconvert_exporter": "python",
   "pygments_lexer": "ipython2",
   "version": "2.7.6"
  }
 },
 "nbformat": 4,
 "nbformat_minor": 0
}