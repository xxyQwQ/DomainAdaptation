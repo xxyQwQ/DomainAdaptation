{
 "cells": [
  {
   "cell_type": "markdown",
   "source": [
    "#### Import packages & Enable CUDA"
   ],
   "metadata": {
    "collapsed": false,
    "pycharm": {
     "name": "#%% md\n"
    }
   }
  },
  {
   "cell_type": "code",
   "execution_count": 1,
   "outputs": [
    {
     "name": "stdout",
     "output_type": "stream",
     "text": [
      "Device: cuda:0\n"
     ]
    }
   ],
   "source": [
    "import torch\n",
    "from torch import nn, optim, autograd\n",
    "from torch.nn import functional as F\n",
    "from torchvision import datasets, transforms\n",
    "import numpy as np\n",
    "import matplotlib.pyplot as plt\n",
    "\n",
    "device = torch.device(\"cuda:0\" if torch.cuda.is_available() else \"cpu\")\n",
    "print(\"Device: {}\".format(device))"
   ],
   "metadata": {
    "collapsed": false,
    "pycharm": {
     "name": "#%%\n"
    }
   }
  },
  {
   "cell_type": "markdown",
   "source": [
    "#### Colored MNIST dataset"
   ],
   "metadata": {
    "collapsed": false,
    "pycharm": {
     "name": "#%% md\n"
    }
   }
  },
  {
   "cell_type": "code",
   "execution_count": 2,
   "outputs": [],
   "source": [
    "class MNISTDataset(datasets.VisionDataset):\n",
    "    def __init__(self, root: str) -> None:\n",
    "        super(MNISTDataset, self).__init__(root)\n",
    "        self.data_label = torch.load(root)\n",
    "        self.transform = transforms.Compose([\n",
    "            transforms.Resize(14),\n",
    "            transforms.ToTensor()\n",
    "        ])\n",
    "        self.images = []\n",
    "        self.targets = []\n",
    "        for image, target in self.data_label:\n",
    "            self.images.append(np.array(image))\n",
    "            self.targets.append(target)\n",
    "        self.images = torch.tensor(np.array(self.images))\n",
    "        self.targets = torch.tensor(np.array(self.targets))\n",
    "\n",
    "    def __len__(self) -> int:\n",
    "        return 20000\n",
    "\n",
    "    def __getitem__(self, index):\n",
    "        image, target = self.data_label[index]\n",
    "        return self.transform(image), target"
   ],
   "metadata": {
    "collapsed": false,
    "pycharm": {
     "name": "#%%\n"
    }
   }
  },
  {
   "cell_type": "markdown",
   "source": [
    "#### Environment Definition & Instantiation"
   ],
   "metadata": {
    "collapsed": false,
    "pycharm": {
     "name": "#%% md\n"
    }
   }
  },
  {
   "cell_type": "code",
   "execution_count": 3,
   "outputs": [
    {
     "name": "stdout",
     "output_type": "stream",
     "text": [
      "Dataset train1 loaded, size = 20000\n",
      "Dataset train2 loaded, size = 20000\n",
      "Dataset test loaded, size = 20000\n"
     ]
    }
   ],
   "source": [
    "class Environment:\n",
    "    def __init__(self, dataset: MNISTDataset) -> None:\n",
    "        self.size = len(dataset)\n",
    "        images = []\n",
    "        targets = []\n",
    "        for image, target in dataset:\n",
    "            images.append(image.unsqueeze_(0))\n",
    "            targets.append(target)\n",
    "        self.images = torch.cat(images, dim=0).to(device)\n",
    "        self.targets = torch.Tensor(targets).unsqueeze_(1).to(device)\n",
    "        self.loss = None\n",
    "        self.accuracy = None\n",
    "        self.penalty = None\n",
    "\n",
    "    def update(self, inputs):\n",
    "        self.loss = F.binary_cross_entropy_with_logits(self.targets, inputs)\n",
    "        predictions = (inputs > 0.).float()\n",
    "        self.accuracy = ((self.targets - predictions).abs() < 0.01).float().mean()\n",
    "        scale = torch.tensor(1., requires_grad=True).to(device)\n",
    "        loss = F.binary_cross_entropy_with_logits(scale * inputs, self.targets)\n",
    "        gradient = autograd.grad(loss, [scale], create_graph=True)[0]\n",
    "        self.penalty = torch.sum(gradient ** 2)\n",
    "\n",
    "\n",
    "train1 = Environment(MNISTDataset('./ColoredMNIST/train1.pt'))\n",
    "print(\"Dataset train1 loaded, size = {}\".format(train1.size))\n",
    "\n",
    "train2 = Environment(MNISTDataset('./ColoredMNIST/train2.pt'))\n",
    "print(\"Dataset train2 loaded, size = {}\".format(train1.size))\n",
    "\n",
    "test = Environment(MNISTDataset('./ColoredMNIST/test.pt'))\n",
    "print(\"Dataset test loaded, size = {}\".format(train1.size))"
   ],
   "metadata": {
    "collapsed": false,
    "pycharm": {
     "name": "#%%\n"
    }
   }
  },
  {
   "cell_type": "markdown",
   "source": [
    "#### MLP model construction"
   ],
   "metadata": {
    "collapsed": false,
    "pycharm": {
     "name": "#%% md\n"
    }
   }
  },
  {
   "cell_type": "code",
   "execution_count": 4,
   "outputs": [],
   "source": [
    "class MNISTModel(nn.Module):\n",
    "    def __init__(self):\n",
    "        super(MNISTModel, self).__init__()\n",
    "        layer1 = nn.Linear(3 * 14 * 14, 256)\n",
    "        layer2 = nn.Linear(256, 256)\n",
    "        layer3 = nn.Linear(256, 1)\n",
    "        for layer in [layer1, layer2, layer3]:\n",
    "            nn.init.xavier_uniform_(layer.weight)\n",
    "            nn.init.zeros_(layer.bias)\n",
    "        self.model = nn.Sequential(\n",
    "            nn.Flatten(),\n",
    "            layer1,\n",
    "            nn.ReLU(True),\n",
    "            layer2,\n",
    "            nn.ReLU(True),\n",
    "            layer3\n",
    "        )\n",
    "\n",
    "    def forward(self, inputs):\n",
    "        outputs = self.model(inputs)\n",
    "        return outputs"
   ],
   "metadata": {
    "collapsed": false,
    "pycharm": {
     "name": "#%%\n"
    }
   }
  },
  {
   "cell_type": "markdown",
   "source": [
    "#### Training & Validation"
   ],
   "metadata": {
    "collapsed": false,
    "pycharm": {
     "name": "#%% md\n"
    }
   }
  },
  {
   "cell_type": "code",
   "execution_count": 5,
   "outputs": [
    {
     "name": "stdout",
     "output_type": "stream",
     "text": [
      "Epoch: 0, Train Accuracy: 0.5192, Test Accuracy: 0.5118\n",
      "Train Loss: 1.0602, Test Loss: 1.0669\n",
      "Train Penalty: 0.0000, Penalty Weight: 1.0000\n",
      "\n",
      "Epoch: 100, Train Accuracy: 0.7666, Test Accuracy: 0.3532\n",
      "Train Loss: -2.0241, Test Loss: 0.8809\n",
      "Train Penalty: 0.1277, Penalty Weight: 3039.5653\n",
      "\n",
      "Epoch: 200, Train Accuracy: 0.7412, Test Accuracy: 0.4961\n",
      "Train Loss: 0.2290, Test Loss: 0.9741\n",
      "Train Penalty: 0.0007, Penalty Weight: 583027.7076\n",
      "\n",
      "Epoch: 300, Train Accuracy: 0.6798, Test Accuracy: 0.6240\n",
      "Train Loss: 0.5016, Test Loss: 0.9488\n",
      "Train Penalty: 0.0002, Penalty Weight: 2489984.7401\n",
      "\n",
      "Epoch: 400, Train Accuracy: 0.6444, Test Accuracy: 0.6671\n",
      "Train Loss: 0.6167, Test Loss: 0.9370\n",
      "Train Penalty: 0.0000, Penalty Weight: 8377222.8234\n",
      "\n",
      "Epoch: 500, Train Accuracy: 0.6261, Test Accuracy: 0.6878\n",
      "Train Loss: 0.6735, Test Loss: 0.9296\n",
      "Train Penalty: 0.0000, Penalty Weight: 25557777.5652\n",
      "\n"
     ]
    }
   ],
   "source": [
    "model = MNISTModel().to(device)\n",
    "optimizer = optim.Adam(model.parameters(), lr=0.001)\n",
    "\n",
    "record_accuracy = []\n",
    "record_loss = []\n",
    "\n",
    "for epoch in range(501):\n",
    "    for group in [train1, train2, test]:\n",
    "        results = model(group.images)\n",
    "        group.update(results)\n",
    "\n",
    "    train_loss = (train1.loss + train2.loss) / 2.\n",
    "    train_accuracy = (train1.accuracy + train2.accuracy) / 2.\n",
    "    train_penalty = (train1.penalty + train2.penalty) / 2.\n",
    "    test_loss = test.loss\n",
    "    test_accuracy = test.accuracy\n",
    "    record_accuracy.append([train_accuracy.item(), test_accuracy.item()])\n",
    "    record_loss.append([train_loss.item(), test_loss.item()])\n",
    "\n",
    "    parameter_norm = torch.tensor(0.).to(device)\n",
    "    for p in model.parameters():\n",
    "        parameter_norm += p.norm().pow(2)\n",
    "\n",
    "    norm_weight = 0.001\n",
    "    penalty_weight = 1.0 if epoch <= 80 else parameter_norm.item() / train_penalty.item()\n",
    "\n",
    "    total_loss = train_loss.clone()\n",
    "    total_loss += norm_weight * parameter_norm\n",
    "    total_loss += penalty_weight * train_penalty\n",
    "\n",
    "    if penalty_weight > 1.0:\n",
    "        total_loss /= penalty_weight\n",
    "\n",
    "    optimizer.zero_grad()\n",
    "    total_loss.backward()\n",
    "    optimizer.step()\n",
    "\n",
    "    if epoch % 100 == 0:\n",
    "        print(\"Epoch: {}, Train Accuracy: {:.4f}, Test Accuracy: {:.4f}\".format(epoch, train_accuracy, test_accuracy))\n",
    "        print(\"Train Loss: {:.4f}, Test Loss: {:.4f}\".format(train_loss, test_loss))\n",
    "        print(\"Train Penalty: {:.4f}, Penalty Weight: {:.4f}\\n\".format(train_penalty, penalty_weight))"
   ],
   "metadata": {
    "collapsed": false,
    "pycharm": {
     "name": "#%%\n"
    }
   }
  },
  {
   "cell_type": "markdown",
   "source": [
    "#### Learning curve"
   ],
   "metadata": {
    "collapsed": false,
    "pycharm": {
     "name": "#%% md\n"
    }
   }
  },
  {
   "cell_type": "code",
   "execution_count": 6,
   "outputs": [
    {
     "data": {
      "text/plain": "<Figure size 720x720 with 1 Axes>",
      "image/png": "[encoded data removed]"
     },
     "metadata": {
      "needs_background": "light"
     },
     "output_type": "display_data"
    },
    {
     "data": {
      "text/plain": "<Figure size 720x720 with 1 Axes>",
      "image/png": "[encoded data removed]"
     },
     "metadata": {
      "needs_background": "light"
     },
     "output_type": "display_data"
    }
   ],
   "source": [
    "steps = np.linspace(0, 500, 501)\n",
    "record_accuracy = np.array(record_accuracy)\n",
    "record_loss = np.array(record_loss)\n",
    "\n",
    "plt.figure(1, figsize=(10, 10))\n",
    "plt.plot(steps, record_accuracy[:, 0], c='purple', label='Train')\n",
    "plt.plot(steps, record_accuracy[:, 1], c='yellow', label='Test')\n",
    "plt.xlabel('Epoch')\n",
    "plt.ylabel('Accuracy')\n",
    "plt.legend(prop={'size': 20})\n",
    "plt.show()\n",
    "\n",
    "plt.figure(2, figsize=(10, 10))\n",
    "plt.plot(steps, record_loss[:, 0], c='purple', label='Train')\n",
    "plt.plot(steps, record_loss[:, 1], c='yellow', label='Test')\n",
    "plt.xlabel('Epoch')\n",
    "plt.ylabel('Loss')\n",
    "plt.legend(prop={'size': 20})\n",
    "plt.show()"
   ],
   "metadata": {
    "collapsed": false,
    "pycharm": {
     "name": "#%%\n"
    }
   }
  }
 ],
 "metadata": {
  "kernelspec": {
   "display_name": "Python 3",
   "language": "python",
   "name": "python3"
  },
  "language_info": {
   "codemirror_mode": {
    "name": "ipython",
    "version": 2
   },
   "file_extension": ".py",
   "mimetype": "text/x-python",
   "name": "python",
   "nbconvert_exporter": "python",
   "pygments_lexer": "ipython2",
   "version": "2.7.6"
  }
 },
 "nbformat": 4,
 "nbformat_minor": 0
}